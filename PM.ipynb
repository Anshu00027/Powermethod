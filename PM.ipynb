{
 "cells": [
  {
   "cell_type": "markdown",
   "metadata": {},
   "source": [
    "# Power method \n"
   ]
  },
  {
   "cell_type": "code",
   "execution_count": 11,
   "metadata": {},
   "outputs": [
    {
     "name": "stdout",
     "output_type": "stream",
     "text": [
      "err =  8.582892283033795e-09 highest eigen value =  8.999999938203175\n",
      "The cost of computation is  0:00:00.002322\n"
     ]
    }
   ],
   "source": [
    "from datetime import datetime as dt\n",
    "import numpy as np\n",
    "# r=int(input(\"no of rows\"))\n",
    "# c=int(input(\"no of columns\"))\n",
    "# m=[]\n",
    "# for H in range(r):\n",
    "#     l=[]\n",
    "#     for K in range(c):\n",
    "#         u=float(input(\"enter the element of a rowise \"))\n",
    "#         l.append(u)\n",
    "#     m.append(l)\n",
    "#     a=np.array(m,dtype=np.float64)\n",
    "\n",
    "# o=[]\n",
    "# for H in range(r):\n",
    "#     l=[]\n",
    "#     for K in range(1):\n",
    "#         u=float(input(\"enter the element of initial vector \"))\n",
    "#         l.append(u)\n",
    "#     o.append(l)\n",
    "#     x0=np.array(o,dtype=np.float64)\n",
    "a=[[1,4,7],[0,4,8],[0,0,9]]\n",
    "x0=[[4],[6],[1]]\n",
    "r=3\n",
    "m=np.zeros([r,1])\n",
    "# e=[float(input(\"enter tolerence \"))]\n",
    "e=0.00000001\n",
    "itime=dt.now()\n",
    "c=[1]\n",
    "err=1\n",
    "i=0\n",
    "while err>=e:\n",
    "    h=np.dot(a,x0)\n",
    "    b=max(h)\n",
    "    err=abs((c[0]-b[0])/(b[0]))\n",
    "    c=b\n",
    "    for k in range(0,r):\n",
    "        m[k]=h[k]/b\n",
    "    x0=m\n",
    "    i=i+1\n",
    "print(\"err = \",err,\"highest eigen value = \",b[0])\n",
    "ftime=dt.now()\n",
    "print(\"The cost of computation is \",ftime-itime)\n"
   ]
  },
  {
   "cell_type": "code",
   "execution_count": null,
   "metadata": {},
   "outputs": [],
   "source": []
  }
 ],
 "metadata": {
  "kernelspec": {
   "display_name": "Python 3",
   "language": "python",
   "name": "python3"
  },
  "language_info": {
   "codemirror_mode": {
    "name": "ipython",
    "version": 3
   },
   "file_extension": ".py",
   "mimetype": "text/x-python",
   "name": "python",
   "nbconvert_exporter": "python",
   "pygments_lexer": "ipython3",
   "version": "3.12.6"
  }
 },
 "nbformat": 4,
 "nbformat_minor": 2
}
